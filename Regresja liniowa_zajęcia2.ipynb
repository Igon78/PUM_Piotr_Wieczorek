{
 "cells": [
  {
   "cell_type": "code",
   "execution_count": 1,
   "id": "f1dea88b",
   "metadata": {},
   "outputs": [
    {
     "name": "stderr",
     "output_type": "stream",
     "text": [
      "C:\\ProgramData\\Anaconda3\\lib\\site-packages\\scipy\\__init__.py:146: UserWarning: A NumPy version >=1.16.5 and <1.23.0 is required for this version of SciPy (detected version 1.24.1\n",
      "  warnings.warn(f\"A NumPy version >={np_minversion} and <{np_maxversion}\"\n"
     ]
    }
   ],
   "source": [
    "import pandas as pd\n",
    "import numpy as np\n",
    "import matplotlib.pyplot as plt\n",
    "import seaborn as sns\n",
    "from sklearn.preprocessing import LabelEncoder\n",
    "\n",
    "from sklearn.model_selection import train_test_split\n",
    "from sklearn.linear_model import LinearRegression"
   ]
  },
  {
   "cell_type": "code",
   "execution_count": 2,
   "id": "7e04226c",
   "metadata": {},
   "outputs": [],
   "source": [
    "data = pd.read_csv(\"Salary Data.csv\")\n"
   ]
  },
  {
   "cell_type": "code",
   "execution_count": 3,
   "id": "39d2db65",
   "metadata": {},
   "outputs": [
    {
     "name": "stdout",
     "output_type": "stream",
     "text": [
      "Feature: \n",
      " Gender \n",
      " ['Male' 'Female' nan] \n",
      " -------------------------------------------------------------------------------- \n",
      "\n",
      "Feature: \n",
      " Education Level \n",
      " [\"Bachelor's\" \"Master's\" 'PhD' nan] \n",
      " -------------------------------------------------------------------------------- \n",
      "\n",
      "Feature: \n",
      " Job Title \n",
      " ['Software Engineer' 'Data Analyst' 'Senior Manager' 'Sales Associate'\n",
      " 'Director' 'Marketing Analyst' 'Product Manager' 'Sales Manager'\n",
      " 'Marketing Coordinator' 'Senior Scientist' 'Software Developer'\n",
      " 'HR Manager' 'Financial Analyst' 'Project Manager' 'Customer Service Rep'\n",
      " 'Operations Manager' 'Marketing Manager' 'Senior Engineer'\n",
      " 'Data Entry Clerk' 'Sales Director' 'Business Analyst' 'VP of Operations'\n",
      " 'IT Support' 'Recruiter' 'Financial Manager' 'Social Media Specialist'\n",
      " 'Software Manager' 'Junior Developer' 'Senior Consultant'\n",
      " 'Product Designer' 'CEO' 'Accountant' 'Data Scientist'\n",
      " 'Marketing Specialist' 'Technical Writer' 'HR Generalist'\n",
      " 'Project Engineer' 'Customer Success Rep' 'Sales Executive' 'UX Designer'\n",
      " 'Operations Director' 'Network Engineer' 'Administrative Assistant'\n",
      " 'Strategy Consultant' 'Copywriter' 'Account Manager'\n",
      " 'Director of Marketing' 'Help Desk Analyst' 'Customer Service Manager'\n",
      " 'Business Intelligence Analyst' 'Event Coordinator' 'VP of Finance'\n",
      " 'Graphic Designer' 'UX Researcher' 'Social Media Manager'\n",
      " 'Director of Operations' 'Senior Data Scientist' 'Junior Accountant'\n",
      " 'Digital Marketing Manager' 'IT Manager'\n",
      " 'Customer Service Representative' 'Business Development Manager'\n",
      " 'Senior Financial Analyst' 'Web Developer' 'Research Director'\n",
      " 'Technical Support Specialist' 'Creative Director'\n",
      " 'Senior Software Engineer' 'Human Resources Director'\n",
      " 'Content Marketing Manager' 'Technical Recruiter' 'Sales Representative'\n",
      " 'Chief Technology Officer' 'Junior Designer' 'Financial Advisor'\n",
      " 'Junior Account Manager' 'Senior Project Manager' 'Principal Scientist'\n",
      " 'Supply Chain Manager' 'Senior Marketing Manager' 'Training Specialist'\n",
      " 'Research Scientist' 'Junior Software Developer'\n",
      " 'Public Relations Manager' 'Operations Analyst'\n",
      " 'Product Marketing Manager' 'Senior HR Manager' 'Junior Web Developer'\n",
      " 'Senior Project Coordinator' 'Chief Data Officer'\n",
      " 'Digital Content Producer' 'IT Support Specialist'\n",
      " 'Senior Marketing Analyst' 'Customer Success Manager'\n",
      " 'Senior Graphic Designer' 'Software Project Manager'\n",
      " 'Supply Chain Analyst' 'Senior Business Analyst'\n",
      " 'Junior Marketing Analyst' 'Office Manager' 'Principal Engineer'\n",
      " 'Junior HR Generalist' 'Senior Product Manager'\n",
      " 'Junior Operations Analyst' 'Senior HR Generalist'\n",
      " 'Sales Operations Manager' 'Senior Software Developer'\n",
      " 'Junior Web Designer' 'Senior Training Specialist'\n",
      " 'Senior Research Scientist' 'Junior Sales Representative'\n",
      " 'Junior Marketing Manager' 'Junior Data Analyst'\n",
      " 'Senior Product Marketing Manager' 'Junior Business Analyst'\n",
      " 'Senior Sales Manager' 'Junior Marketing Specialist'\n",
      " 'Junior Project Manager' 'Senior Accountant' 'Director of Sales'\n",
      " 'Junior Recruiter' 'Senior Business Development Manager'\n",
      " 'Senior Product Designer' 'Junior Customer Support Specialist'\n",
      " 'Senior IT Support Specialist' 'Junior Financial Analyst'\n",
      " 'Senior Operations Manager' 'Director of Human Resources'\n",
      " 'Junior Software Engineer' 'Senior Sales Representative'\n",
      " 'Director of Product Management' 'Junior Copywriter'\n",
      " 'Senior Marketing Coordinator' 'Senior Human Resources Manager'\n",
      " 'Junior Business Development Associate' 'Senior Account Manager'\n",
      " 'Senior Researcher' 'Junior HR Coordinator' 'Director of Finance'\n",
      " 'Junior Marketing Coordinator' nan 'Junior Data Scientist'\n",
      " 'Senior Operations Analyst' 'Senior Human Resources Coordinator'\n",
      " 'Senior UX Designer' 'Junior Product Manager'\n",
      " 'Senior Marketing Specialist' 'Senior IT Project Manager'\n",
      " 'Senior Quality Assurance Analyst' 'Director of Sales and Marketing'\n",
      " 'Senior Account Executive' 'Director of Business Development'\n",
      " 'Junior Social Media Manager' 'Senior Human Resources Specialist'\n",
      " 'Senior Data Analyst' 'Director of Human Capital'\n",
      " 'Junior Advertising Coordinator' 'Junior UX Designer'\n",
      " 'Senior Marketing Director' 'Senior IT Consultant'\n",
      " 'Senior Financial Advisor' 'Junior Business Operations Analyst'\n",
      " 'Junior Social Media Specialist' 'Senior Product Development Manager'\n",
      " 'Junior Operations Manager' 'Senior Software Architect'\n",
      " 'Junior Research Scientist' 'Senior Financial Manager'\n",
      " 'Senior HR Specialist' 'Senior Data Engineer'\n",
      " 'Junior Operations Coordinator' 'Director of HR'\n",
      " 'Senior Operations Coordinator' 'Junior Financial Advisor'\n",
      " 'Director of Engineering'] \n",
      " -------------------------------------------------------------------------------- \n",
      "\n"
     ]
    }
   ],
   "source": [
    "#wydzielenie list kolumn numerycznych i kategorialnych\n",
    "numeric_cols = ['Age','Years of Experience']\n",
    "categorical_cols =['Gender','Education Level', 'Job Title']\n",
    "\n",
    "for feature in categorical_cols:\n",
    "    uniques = data[feature].unique()\n",
    "    print('Feature:','\\n',feature, '\\n', uniques,'\\n','--'*40,'\\n')"
   ]
  },
  {
   "cell_type": "code",
   "execution_count": 4,
   "id": "6b8fe6f5",
   "metadata": {},
   "outputs": [
    {
     "name": "stdout",
     "output_type": "stream",
     "text": [
      "Feature: \n",
      " Age \n",
      " [32. 28. 45. 36. 52. 29. 42. 31. 26. 38. 48. 35. 40. 27. 44. 33. 39. 25.\n",
      " 51. 34. 47. 30. 41. 37. 24. 43. 50. 46. 49. 23. 53. nan] \n",
      " -------------------------------------------------------------------------------- \n",
      "\n",
      "Feature: \n",
      " Years of Experience \n",
      " [ 5.   3.  15.   7.  20.   2.  12.   4.   1.  10.  18.   6.  14.  16.\n",
      "  0.  22.  19.   9.  13.  11.  25.  21.   8.  17.  23.  24.   0.5  1.5\n",
      "  nan] \n",
      " -------------------------------------------------------------------------------- \n",
      "\n"
     ]
    }
   ],
   "source": [
    "for feature in numeric_cols:\n",
    "    uniques = data[feature].unique()\n",
    "    print('Feature:','\\n',feature, '\\n', uniques,'\\n','--'*40,'\\n') # brak wartości odstających w zbiorze"
   ]
  },
  {
   "cell_type": "code",
   "execution_count": 5,
   "id": "6d8522e5",
   "metadata": {},
   "outputs": [
    {
     "data": {
      "text/plain": [
       "Age                    2\n",
       "Gender                 2\n",
       "Education Level        2\n",
       "Job Title              2\n",
       "Years of Experience    2\n",
       "Salary                 2\n",
       "dtype: int64"
      ]
     },
     "execution_count": 5,
     "metadata": {},
     "output_type": "execute_result"
    }
   ],
   "source": [
    "data.isnull().sum() #liczba pustych wartości w danych"
   ]
  },
  {
   "cell_type": "code",
   "execution_count": 6,
   "id": "1a7b30d8",
   "metadata": {},
   "outputs": [
    {
     "data": {
      "text/plain": [
       "Age                    0\n",
       "Gender                 0\n",
       "Education Level        0\n",
       "Job Title              0\n",
       "Years of Experience    0\n",
       "Salary                 0\n",
       "dtype: int64"
      ]
     },
     "execution_count": 6,
     "metadata": {},
     "output_type": "execute_result"
    }
   ],
   "source": [
    "data.dropna(inplace=True) #usunięcie wierszy z pustymi wartościami\n",
    "data.isnull().sum()"
   ]
  },
  {
   "cell_type": "code",
   "execution_count": 7,
   "id": "01da38ff",
   "metadata": {},
   "outputs": [
    {
     "data": {
      "text/html": [
       "<div>\n",
       "<style scoped>\n",
       "    .dataframe tbody tr th:only-of-type {\n",
       "        vertical-align: middle;\n",
       "    }\n",
       "\n",
       "    .dataframe tbody tr th {\n",
       "        vertical-align: top;\n",
       "    }\n",
       "\n",
       "    .dataframe thead th {\n",
       "        text-align: right;\n",
       "    }\n",
       "</style>\n",
       "<table border=\"1\" class=\"dataframe\">\n",
       "  <thead>\n",
       "    <tr style=\"text-align: right;\">\n",
       "      <th></th>\n",
       "      <th>Age</th>\n",
       "      <th>Gender</th>\n",
       "      <th>Education Level</th>\n",
       "      <th>Job Title</th>\n",
       "      <th>Years of Experience</th>\n",
       "      <th>Salary</th>\n",
       "    </tr>\n",
       "  </thead>\n",
       "  <tbody>\n",
       "    <tr>\n",
       "      <th>0</th>\n",
       "      <td>32.0</td>\n",
       "      <td>1</td>\n",
       "      <td>0</td>\n",
       "      <td>159</td>\n",
       "      <td>5.0</td>\n",
       "      <td>90000.0</td>\n",
       "    </tr>\n",
       "    <tr>\n",
       "      <th>1</th>\n",
       "      <td>28.0</td>\n",
       "      <td>0</td>\n",
       "      <td>1</td>\n",
       "      <td>17</td>\n",
       "      <td>3.0</td>\n",
       "      <td>65000.0</td>\n",
       "    </tr>\n",
       "    <tr>\n",
       "      <th>2</th>\n",
       "      <td>45.0</td>\n",
       "      <td>1</td>\n",
       "      <td>2</td>\n",
       "      <td>130</td>\n",
       "      <td>15.0</td>\n",
       "      <td>150000.0</td>\n",
       "    </tr>\n",
       "    <tr>\n",
       "      <th>3</th>\n",
       "      <td>36.0</td>\n",
       "      <td>0</td>\n",
       "      <td>0</td>\n",
       "      <td>101</td>\n",
       "      <td>7.0</td>\n",
       "      <td>60000.0</td>\n",
       "    </tr>\n",
       "    <tr>\n",
       "      <th>4</th>\n",
       "      <td>52.0</td>\n",
       "      <td>1</td>\n",
       "      <td>1</td>\n",
       "      <td>22</td>\n",
       "      <td>20.0</td>\n",
       "      <td>200000.0</td>\n",
       "    </tr>\n",
       "  </tbody>\n",
       "</table>\n",
       "</div>"
      ],
      "text/plain": [
       "    Age  Gender  Education Level  Job Title  Years of Experience    Salary\n",
       "0  32.0       1                0        159                  5.0   90000.0\n",
       "1  28.0       0                1         17                  3.0   65000.0\n",
       "2  45.0       1                2        130                 15.0  150000.0\n",
       "3  36.0       0                0        101                  7.0   60000.0\n",
       "4  52.0       1                1         22                 20.0  200000.0"
      ]
     },
     "execution_count": 7,
     "metadata": {},
     "output_type": "execute_result"
    }
   ],
   "source": [
    "data[categorical_cols] = data[categorical_cols].apply(LabelEncoder().fit_transform)\n",
    "    \n",
    "data.head()"
   ]
  },
  {
   "cell_type": "code",
   "execution_count": 8,
   "id": "56e38525",
   "metadata": {},
   "outputs": [
    {
     "data": {
      "text/plain": [
       "<AxesSubplot:>"
      ]
     },
     "execution_count": 8,
     "metadata": {},
     "output_type": "execute_result"
    },
    {
     "data": {
      "image/png": "[encoded data removed]",
      "text/plain": [
       "<Figure size 720x576 with 1 Axes>"
      ]
     },
     "metadata": {
      "needs_background": "light"
     },
     "output_type": "display_data"
    }
   ],
   "source": [
    "#korelacja cech ze zmienną Salary\n",
    "pd.DataFrame(abs(data.corr()['Salary'].drop('Salary')*100).sort_values(ascending=False)).plot.bar(figsize = (10,8))\n",
    "#najsilniej skorelowane zmienne ze zmienną Salary to lata doświadczenia, wiek i poziom edukacji"
   ]
  },
  {
   "cell_type": "code",
   "execution_count": 9,
   "id": "54636c65",
   "metadata": {},
   "outputs": [
    {
     "data": {
      "image/png": "[encoded data removed]",
      "text/plain": [
       "<Figure size 1440x1296 with 2 Axes>"
      ]
     },
     "metadata": {
      "needs_background": "light"
     },
     "output_type": "display_data"
    }
   ],
   "source": [
    "#korelacje cech numerycznych\n",
    "plt.figure(figsize = (20,18))\n",
    "sns.heatmap(data.corr(),annot=True,linewidths=0.1,cmap='Blues')\n",
    "plt.title('Numerical Features Correlation')\n",
    "plt.show() #duże korelacje pomiędzy zmiennymi dotyczącymi wieku, doświadczenia i poziomu edukacji"
   ]
  },
  {
   "cell_type": "code",
   "execution_count": 10,
   "id": "6b8bec25",
   "metadata": {},
   "outputs": [
    {
     "data": {
      "text/plain": [
       "<BarContainer object of 3 artists>"
      ]
     },
     "execution_count": 10,
     "metadata": {},
     "output_type": "execute_result"
    },
    {
     "data": {
      "image/png": "[encoded data removed]",
      "text/plain": [
       "<Figure size 432x288 with 1 Axes>"
      ]
     },
     "metadata": {
      "needs_background": "light"
     },
     "output_type": "display_data"
    }
   ],
   "source": [
    "data_clean = data.copy()\n",
    "x_clean = data_clean.drop(columns=['Salary'])\n",
    "y_clean = data_clean.Salary\n",
    "\n",
    "from sklearn.decomposition import PCA #redukcja wymiarowości z analizą głównych składowych\n",
    "pca = PCA(n_components=3) #redukacja 6 atrybutów na 3 atrybuty\n",
    "pca_features = pca.fit_transform(x_clean)\n",
    "\n",
    "pca_df = pd.DataFrame(data=pca_features, columns=['Atribute1','Atribute2','Atribute3'])\n",
    "#wykres\n",
    "plt.bar(range(1,len(pca.explained_variance_)+1),pca.explained_variance_) "
   ]
  },
  {
   "cell_type": "code",
   "execution_count": 11,
   "id": "5fa7b4dc",
   "metadata": {},
   "outputs": [
    {
     "data": {
      "text/html": [
       "<div>\n",
       "<style scoped>\n",
       "    .dataframe tbody tr th:only-of-type {\n",
       "        vertical-align: middle;\n",
       "    }\n",
       "\n",
       "    .dataframe tbody tr th {\n",
       "        vertical-align: top;\n",
       "    }\n",
       "\n",
       "    .dataframe thead th {\n",
       "        text-align: right;\n",
       "    }\n",
       "</style>\n",
       "<table border=\"1\" class=\"dataframe\">\n",
       "  <thead>\n",
       "    <tr style=\"text-align: right;\">\n",
       "      <th></th>\n",
       "      <th>Atribute1</th>\n",
       "      <th>Atribute2</th>\n",
       "      <th>Atribute3</th>\n",
       "    </tr>\n",
       "  </thead>\n",
       "  <tbody>\n",
       "    <tr>\n",
       "      <th>72</th>\n",
       "      <td>-9.274544</td>\n",
       "      <td>9.444695</td>\n",
       "      <td>-0.543662</td>\n",
       "    </tr>\n",
       "    <tr>\n",
       "      <th>223</th>\n",
       "      <td>31.240712</td>\n",
       "      <td>-11.649459</td>\n",
       "      <td>0.503667</td>\n",
       "    </tr>\n",
       "    <tr>\n",
       "      <th>367</th>\n",
       "      <td>41.115258</td>\n",
       "      <td>-6.392750</td>\n",
       "      <td>-1.452864</td>\n",
       "    </tr>\n",
       "    <tr>\n",
       "      <th>79</th>\n",
       "      <td>81.174668</td>\n",
       "      <td>-8.317864</td>\n",
       "      <td>-0.286004</td>\n",
       "    </tr>\n",
       "    <tr>\n",
       "      <th>134</th>\n",
       "      <td>17.278086</td>\n",
       "      <td>-13.393433</td>\n",
       "      <td>0.484956</td>\n",
       "    </tr>\n",
       "  </tbody>\n",
       "</table>\n",
       "</div>"
      ],
      "text/plain": [
       "     Atribute1  Atribute2  Atribute3\n",
       "72   -9.274544   9.444695  -0.543662\n",
       "223  31.240712 -11.649459   0.503667\n",
       "367  41.115258  -6.392750  -1.452864\n",
       "79   81.174668  -8.317864  -0.286004\n",
       "134  17.278086 -13.393433   0.484956"
      ]
     },
     "execution_count": 11,
     "metadata": {},
     "output_type": "execute_result"
    }
   ],
   "source": [
    "#zbiór z PCA\n",
    "x_train2, x_test2, y_train2, y_test2 = train_test_split(pca_df,y_clean,test_size=0.30,random_state=32)\n",
    "x_train2.head(5)"
   ]
  },
  {
   "cell_type": "code",
   "execution_count": 12,
   "id": "f59a6957",
   "metadata": {},
   "outputs": [
    {
     "data": {
      "text/html": [
       "<div>\n",
       "<style scoped>\n",
       "    .dataframe tbody tr th:only-of-type {\n",
       "        vertical-align: middle;\n",
       "    }\n",
       "\n",
       "    .dataframe tbody tr th {\n",
       "        vertical-align: top;\n",
       "    }\n",
       "\n",
       "    .dataframe thead th {\n",
       "        text-align: right;\n",
       "    }\n",
       "</style>\n",
       "<table border=\"1\" class=\"dataframe\">\n",
       "  <thead>\n",
       "    <tr style=\"text-align: right;\">\n",
       "      <th></th>\n",
       "      <th>Age</th>\n",
       "      <th>Gender</th>\n",
       "      <th>Education Level</th>\n",
       "      <th>Job Title</th>\n",
       "      <th>Years of Experience</th>\n",
       "    </tr>\n",
       "  </thead>\n",
       "  <tbody>\n",
       "    <tr>\n",
       "      <th>72</th>\n",
       "      <td>45.0</td>\n",
       "      <td>1</td>\n",
       "      <td>2</td>\n",
       "      <td>99</td>\n",
       "      <td>16.0</td>\n",
       "    </tr>\n",
       "    <tr>\n",
       "      <th>224</th>\n",
       "      <td>28.0</td>\n",
       "      <td>1</td>\n",
       "      <td>0</td>\n",
       "      <td>59</td>\n",
       "      <td>2.0</td>\n",
       "    </tr>\n",
       "    <tr>\n",
       "      <th>369</th>\n",
       "      <td>33.0</td>\n",
       "      <td>1</td>\n",
       "      <td>0</td>\n",
       "      <td>49</td>\n",
       "      <td>4.0</td>\n",
       "    </tr>\n",
       "    <tr>\n",
       "      <th>79</th>\n",
       "      <td>30.0</td>\n",
       "      <td>0</td>\n",
       "      <td>0</td>\n",
       "      <td>9</td>\n",
       "      <td>3.0</td>\n",
       "    </tr>\n",
       "    <tr>\n",
       "      <th>134</th>\n",
       "      <td>27.0</td>\n",
       "      <td>1</td>\n",
       "      <td>0</td>\n",
       "      <td>73</td>\n",
       "      <td>1.0</td>\n",
       "    </tr>\n",
       "  </tbody>\n",
       "</table>\n",
       "</div>"
      ],
      "text/plain": [
       "      Age  Gender  Education Level  Job Title  Years of Experience\n",
       "72   45.0       1                2         99                 16.0\n",
       "224  28.0       1                0         59                  2.0\n",
       "369  33.0       1                0         49                  4.0\n",
       "79   30.0       0                0          9                  3.0\n",
       "134  27.0       1                0         73                  1.0"
      ]
     },
     "execution_count": 12,
     "metadata": {},
     "output_type": "execute_result"
    }
   ],
   "source": [
    "#zbiór bez PCA\n",
    "X = data.drop(columns=['Salary']) #podzielenie danych na zbiór testowy i treningowy\n",
    "Y = data.Salary\n",
    "x_train, x_test, y_train, y_test = train_test_split(X,Y,test_size=0.30,random_state=32)\n",
    "x_train.head(5)"
   ]
  },
  {
   "cell_type": "code",
   "execution_count": 13,
   "id": "022ac132",
   "metadata": {},
   "outputs": [],
   "source": [
    "from sklearn.linear_model import Ridge\n",
    "from sklearn.linear_model import Lasso\n",
    "from sklearn.tree import DecisionTreeRegressor\n",
    "from sklearn.preprocessing import PolynomialFeatures\n",
    "from sklearn.metrics import mean_absolute_error"
   ]
  },
  {
   "cell_type": "code",
   "execution_count": 14,
   "id": "e4974dd7",
   "metadata": {},
   "outputs": [
    {
     "name": "stdout",
     "output_type": "stream",
     "text": [
      "Treningowy: 0.8991283964713741\n",
      "Testowy: 0.8849689419927078\n",
      "MAE treningowy: 11041.130586187062\n",
      "MAE testowy: 11101.209920876381\n"
     ]
    }
   ],
   "source": [
    "#regresja wielomianowa stopnia 3\n",
    "poly = PolynomialFeatures(degree=3,include_bias=False)\n",
    "poly_features = poly.fit_transform(x_train2)\n",
    "poly_features_test = poly.fit_transform(x_test2)\n",
    "\n",
    "poly_reg = LinearRegression()\n",
    "poly_reg.fit(poly_features, y_train2)\n",
    "\n",
    "y_pred_poly_train = poly_reg.predict(poly_features)\n",
    "poly_mae_train = mean_absolute_error(y_pred_poly_train, y_train2)\n",
    "\n",
    "y_pred_poly_test = poly_reg.predict(poly_features_test)\n",
    "poly_mae_test = mean_absolute_error(y_pred_poly_test, y_test2)\n",
    "\n",
    "print(f\"Treningowy: {poly_reg.score(poly_features, y_train2)}\")\n",
    "print(f\"Testowy: {poly_reg.score(poly_features_test, y_test2)}\")\n",
    "print(f\"MAE treningowy: {poly_mae_train}\")\n",
    "print(f\"MAE testowy: {poly_mae_test}\")"
   ]
  },
  {
   "cell_type": "code",
   "execution_count": 15,
   "id": "91062ab2",
   "metadata": {},
   "outputs": [
    {
     "name": "stdout",
     "output_type": "stream",
     "text": [
      "Treningowy: 0.8640580748806017\n",
      "Testowy: 0.894765220187633\n",
      "MAE trenigowy: 12784.381327691526\n",
      "MAE testowy: 10893.122953726199\n"
     ]
    }
   ],
   "source": [
    "#regresja liniowa LASSO\n",
    "reg_lasso = Lasso(alpha=1)\n",
    "reg_lasso.fit(x_train2, y_train2)\n",
    "\n",
    "y_pred_lasso_train = reg_lasso.predict(x_train2)\n",
    "lasso_mae_train = mean_absolute_error(y_pred_lasso_train, y_train2)\n",
    "\n",
    "y_pred_lasso_test = reg_lasso.predict(x_test2)\n",
    "lasso_mae_test = mean_absolute_error(y_pred_lasso_test, y_test2)\n",
    "\n",
    "print(f\"Treningowy: {reg_lasso.score(x_train2, y_train2)}\")\n",
    "print(f\"Testowy: {reg_lasso.score(x_test2, y_test2)}\")\n",
    "print(f\"MAE trenigowy: {lasso_mae_train}\")\n",
    "print(f\"MAE testowy: {lasso_mae_test}\")"
   ]
  },
  {
   "cell_type": "code",
   "execution_count": 16,
   "id": "e77656b4",
   "metadata": {},
   "outputs": [
    {
     "name": "stdout",
     "output_type": "stream",
     "text": [
      "Treningowy: 0.9583852641887952\n",
      "Testowy: 0.8900390747730107\n",
      "MAE treningowy: 7070.464131316057\n",
      "MAE testowy: 10294.38150260104\n"
     ]
    }
   ],
   "source": [
    "#regresja drzewa decyzyjnego\n",
    "dt_reg = DecisionTreeRegressor(max_depth=5)\n",
    "dt_reg.fit(x_train2, y_train2)\n",
    "\n",
    "y_pred_dt_train = dt_reg.predict(x_train2)\n",
    "dt_mae_train = mean_absolute_error(y_pred_dt_train, y_train2)\n",
    "\n",
    "y_pred_dt_test = dt_reg.predict(x_test2)\n",
    "dt_mae_test = mean_absolute_error(y_pred_dt_test, y_test2)\n",
    "\n",
    "print(f\"Treningowy: {dt_reg.score(x_train2, y_train2)}\")\n",
    "print(f\"Testowy: {dt_reg.score(x_test2, y_test2)}\")\n",
    "print(f\"MAE treningowy: {dt_mae_train}\")\n",
    "print(f\"MAE testowy: {dt_mae_test}\") #średni błąd absolutny, czyli o ile średnio myli się model"
   ]
  },
  {
   "cell_type": "code",
   "execution_count": 17,
   "id": "caa6e5ea",
   "metadata": {},
   "outputs": [
    {
     "data": {
      "text/html": [
       "<div>\n",
       "<style scoped>\n",
       "    .dataframe tbody tr th:only-of-type {\n",
       "        vertical-align: middle;\n",
       "    }\n",
       "\n",
       "    .dataframe tbody tr th {\n",
       "        vertical-align: top;\n",
       "    }\n",
       "\n",
       "    .dataframe thead th {\n",
       "        text-align: right;\n",
       "    }\n",
       "</style>\n",
       "<table border=\"1\" class=\"dataframe\">\n",
       "  <thead>\n",
       "    <tr style=\"text-align: right;\">\n",
       "      <th></th>\n",
       "      <th>Model regresji</th>\n",
       "      <th>Dokładność treningowy</th>\n",
       "      <th>Dokładność testowy</th>\n",
       "      <th>MAE treningowy</th>\n",
       "      <th>MAE testowy</th>\n",
       "    </tr>\n",
       "  </thead>\n",
       "  <tbody>\n",
       "    <tr>\n",
       "      <th>0</th>\n",
       "      <td>Wielomianowa st.3</td>\n",
       "      <td>0.899128</td>\n",
       "      <td>0.884969</td>\n",
       "      <td>11041.130586</td>\n",
       "      <td>11101.209921</td>\n",
       "    </tr>\n",
       "    <tr>\n",
       "      <th>1</th>\n",
       "      <td>LASSO</td>\n",
       "      <td>0.864058</td>\n",
       "      <td>0.894765</td>\n",
       "      <td>12784.381328</td>\n",
       "      <td>10893.122954</td>\n",
       "    </tr>\n",
       "    <tr>\n",
       "      <th>2</th>\n",
       "      <td>Drzewo decyzyjne</td>\n",
       "      <td>0.958385</td>\n",
       "      <td>0.890039</td>\n",
       "      <td>7070.464131</td>\n",
       "      <td>10294.381503</td>\n",
       "    </tr>\n",
       "  </tbody>\n",
       "</table>\n",
       "</div>"
      ],
      "text/plain": [
       "      Model regresji  Dokładność treningowy  Dokładność testowy  \\\n",
       "0  Wielomianowa st.3               0.899128            0.884969   \n",
       "1              LASSO               0.864058            0.894765   \n",
       "2   Drzewo decyzyjne               0.958385            0.890039   \n",
       "\n",
       "   MAE treningowy   MAE testowy  \n",
       "0    11041.130586  11101.209921  \n",
       "1    12784.381328  10893.122954  \n",
       "2     7070.464131  10294.381503  "
      ]
     },
     "execution_count": 17,
     "metadata": {},
     "output_type": "execute_result"
    }
   ],
   "source": [
    "#porównanie modeli\n",
    "wyniki = pd.DataFrame({\n",
    "    \"Model regresji\":['Wielomianowa st.3','LASSO','Drzewo decyzyjne'],\n",
    "    \"Dokładność treningowy\":[poly_reg.score(poly_features, y_train2),\n",
    "                             reg_lasso.score(x_train2, y_train2),\n",
    "                            dt_reg.score(x_train2, y_train2)],\n",
    "    \"Dokładność testowy\":[poly_reg.score(poly_features_test, y_test2),\n",
    "                         reg_lasso.score(x_test2, y_test2),\n",
    "                         dt_reg.score(x_test2, y_test2)],\n",
    "    \"MAE treningowy\":[poly_mae_train,lasso_mae_train,dt_mae_train],\n",
    "    \n",
    "    \"MAE testowy\":[poly_mae_test,lasso_mae_test,dt_mae_test]\n",
    "\n",
    "})\n",
    "wyniki\n"
   ]
  },
  {
   "cell_type": "code",
   "execution_count": null,
   "id": "565d2150",
   "metadata": {},
   "outputs": [],
   "source": []
  }
 ],
 "metadata": {
  "kernelspec": {
   "display_name": "Python 3 (ipykernel)",
   "language": "python",
   "name": "python3"
  },
  "language_info": {
   "codemirror_mode": {
    "name": "ipython",
    "version": 3
   },
   "file_extension": ".py",
   "mimetype": "text/x-python",
   "name": "python",
   "nbconvert_exporter": "python",
   "pygments_lexer": "ipython3",
   "version": "3.9.12"
  }
 },
 "nbformat": 4,
 "nbformat_minor": 5
}
